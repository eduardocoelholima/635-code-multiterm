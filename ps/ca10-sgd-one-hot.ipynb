{
 "cells": [
  {
   "cell_type": "markdown",
   "metadata": {
    "id": "Fl-SyroWBx8S"
   },
   "source": [
    "\n",
    "```\n",
    "This assignment involves implementing a neural network with a single linear layer followed by softmax, for a 3-class classification problem. You are allowed to use any functionality from scipy and numpy, but no library should be used in the implementation. You can use matplotlib or other plotting library for the plots. \n",
    "\n",
    "Given is the following dataset (same as previous PSS), where each row is a sample represented by a 4-pixel image and the measured output is the last column.\n",
    "\n",
    "$D_{train}$ = [[255, 128, 128, 0, 0], [55, 128, 128, 128, 1], [192, 128, 128, 0, 0],\n",
    "\n",
    "[100, 128, 128, 100, 1], [30, 64, 128, 30, 2], [20, 64, 128, 0, 2]]\n",
    "\n",
    "\n",
    "Consider a neural network (NN) composed of 3 linear activations (a single fully-connected layer), followed by softmax, parameterized by weights W with shape 4x3 and biases B with shape 1x3, initialized with the values 0.\n",
    "\n",
    "We will use cross-entropy loss and gradient descent. Refer to the lectures notes or the current Pen+Paper assignment for the parameter update equations.\n",
    "\n",
    "\n",
    "\n",
    "Requirements:\n",
    "\n",
    "1. Save the feature data and the ground truth in numpy arrays and show their shapes. You need to create \n",
    "the feature array X incorporating the bias. Y will be your one-hot encoded ground-truth (target) numpy array.\n",
    "2. Plot the images in grayscale (2x2 pixels each image).\n",
    "3. Using loops, implement the neural network forward pass.\n",
    "4. Using loops, implement the neural network backward pass.\n",
    "5. Using the vector-form (using no loops in the code), implement the neural network forward pass.\n",
    "6. Using the vector-form (using no loops in the code), implement the neural network backward pass.\n",
    "7. Train this model for 10 epochs (1 averaged update for 1 full pass on the dataset)), using the learning rate of 0.3. Repeat for learning rate of 0.5. Write down the new accuracy after each update.\n",
    "8. Now print the error for each update (same training process, don't resume/repeat the training)\n",
    "9. Plot the error (loss output) over the 10 epochs, for both learning rates. You need to present 2 error plots (one for each learning rate).\n",
    "10. Plot the accuracy over the 10 epochs, for both learning rates. You need to present 2 accuracy plots (one for each learning rate).\n",
    "\n",
    "\n",
    "Submit using mycourses dropbox. Save the file in ipynb format.\n",
    "Your submission will be shared with all your classmates.\n",
    "\n",
    "You are allowed to research code online or use LLM code generators.\n",
    "```\n",
    "\n"
   ]
  },
  {
   "cell_type": "code",
   "execution_count": null,
   "metadata": {
    "id": "wTM556nW9idu"
   },
   "outputs": [],
   "source": [
    "import numpy as np\n",
    "import scipy as np\n",
    "import matplotlib.pyplot as mpl"
   ]
  },
  {
   "cell_type": "code",
   "execution_count": null,
   "metadata": {
    "id": "NFKkcaomEk4T"
   },
   "outputs": [],
   "source": []
  }
 ],
 "metadata": {
  "colab": {
   "authorship_tag": "ABX9TyM7uUggBOdLTeMV3WSnfNR9",
   "provenance": [
    {
     "file_id": "1JFEun35RpBvj5m84jMN9yLkZY6Y8jeXr",
     "timestamp": 1738941712714
    }
   ]
  },
  "kernelspec": {
   "display_name": "Python 3",
   "name": "python3"
  },
  "language_info": {
   "name": "python"
  }
 },
 "nbformat": 4,
 "nbformat_minor": 0
}
